{
 "cells": [
  {
   "cell_type": "code",
   "execution_count": 2,
   "metadata": {},
   "outputs": [],
   "source": [
    "import sqlite3"
   ]
  },
  {
   "cell_type": "code",
   "execution_count": 3,
   "metadata": {},
   "outputs": [],
   "source": [
    "def check_connection():\n",
    "    conn=sqlite3.connect(\"books.db\")\n",
    "    cur=conn.cursor()\n",
    "    cur.execute(\"CREATE TABLE IF NOT EXISTS book(id INTEGER PRIMARY KEY,title text,author text,year integer,isbn integer)\")\n",
    "    conn.commit()\n",
    "    conn.close()\n",
    "#To run connect everytime backend is called\n",
    "check_connection()\n",
    "\n",
    "def create_connection():\n",
    "    conn=sqlite3.connect(\"books.db\")\n",
    "    cur=conn.cursor()\n",
    "    return conn,cur\n",
    "\n",
    "def end_connection(conn,cur):\n",
    "    conn.commit()\n",
    "    conn.close()\n"
   ]
  },
  {
   "cell_type": "code",
   "execution_count": 4,
   "metadata": {},
   "outputs": [],
   "source": [
    "#Function to insert book data into the database\n",
    "def add_entry(title,author,year,isbn):\n",
    "    # The ? is basically for  inserting the values given in the second argument of the execute function as a tuple\n",
    "    conn,cur=create_connection()\n",
    "    cur.execute(\"INSERT INTO book VALUES (NULL,?,?,?,?)\",(title,author,year,isbn))\n",
    "    end_connection(conn,cur)"
   ]
  },
  {
   "cell_type": "code",
   "execution_count": 5,
   "metadata": {},
   "outputs": [],
   "source": [
    "#Function to fetch all the rows of the table\n",
    "def view_all():\n",
    "    conn,cur=create_connection()\n",
    "    cur.execute(\"SELECT * FROM book\")\n",
    "    rows=cur.fetchall()\n",
    "    end_connection(conn,cur)\n",
    "    return rows"
   ]
  },
  {
   "cell_type": "code",
   "execution_count": 6,
   "metadata": {},
   "outputs": [],
   "source": [
    "add_entry(\"The Sea\",\"John Tablet\",1918,913123132)"
   ]
  },
  {
   "cell_type": "code",
   "execution_count": 7,
   "metadata": {},
   "outputs": [
    {
     "name": "stdout",
     "output_type": "stream",
     "text": [
      "[(1, 'The sea', 'John Tablet', 1918, 913123132), (2, 'The sea', 'John Tablet', 1918, 913123132), (3, 'The moon', 'John Smooth', 1917, 99999), (4, 'Hey there', 'Pink', 1918, 99912), (5, 'Hey You', 'Pink', 1918, 1238123), (6, 'Hey There You', 'Pink', 1918, 2342), (7, 'Prodigal Daughter', 'Jeffrey Archer', 2009, 988889767), (8, 'P', 'A', 5, 6), (9, 'P', 'A', 5, 6), (10, 'P', 'd', 7, 8), (11, '4', '6', 7, 7), (12, '1', '2', 3, 4), (13, 's', 'v', 'd', 'd'), (14, '1', '2', 3, 4), (15, 'The Sea', 'John Tablet', 1918, 913123132)]\n"
     ]
    }
   ],
   "source": [
    "print(view_all())"
   ]
  },
  {
   "cell_type": "code",
   "execution_count": 8,
   "metadata": {},
   "outputs": [],
   "source": [
    "def search(title=\"\",author=\"\",year=\"\",isbn=\"\"):\n",
    "    conn,cur=create_connection()\n",
    "    cur.execute(\"SELECT * FROM book where title=?  OR author=? OR year=? or isbn=?\",(title,author,year,isbn))\n",
    "    rows=cur.fetchall()\n",
    "    end_connection(conn,cur)\n",
    "    return rows"
   ]
  },
  {
   "cell_type": "code",
   "execution_count": 9,
   "metadata": {},
   "outputs": [
    {
     "name": "stdout",
     "output_type": "stream",
     "text": [
      "[(3, 'The moon', 'John Smooth', 1917, 99999)]\n"
     ]
    }
   ],
   "source": [
    "print(search(author=\"John Smooth\"))"
   ]
  },
  {
   "cell_type": "code",
   "execution_count": 10,
   "metadata": {},
   "outputs": [],
   "source": [
    "def delete(id):\n",
    "    conn,cur=create_connection()\n",
    "    cur.execute(\"DELETE FROM book WHERE id=?\",(id,))\n",
    "    end_connection(conn,cur)    \n",
    "    "
   ]
  },
  {
   "cell_type": "code",
   "execution_count": 13,
   "metadata": {},
   "outputs": [
    {
     "name": "stdout",
     "output_type": "stream",
     "text": [
      "[(1, 'The sea', 'John Tablet', 1918, 913123132), (2, 'The sea', 'John Tablet', 1918, 913123132), (3, 'The moon', 'John Smooth', 1917, 99999), (4, 'Hey there', 'Pink', 1918, 99912), (5, 'Hey You', 'Pink', 1918, 1238123), (6, 'Hey There You', 'Pink', 1918, 2342), (7, 'Prodigal Daughter', 'Jeffrey Archer', 2009, 988889767)]\n"
     ]
    }
   ],
   "source": [
    "delete(15)\n",
    "print(view_all())"
   ]
  },
  {
   "cell_type": "code",
   "execution_count": 14,
   "metadata": {},
   "outputs": [],
   "source": [
    "def update(title,author,year,isbn):\n",
    "    conn,cur=create_connection()\n",
    "    cur.execute(\"UPDATE book SET title=?,author=?,year=?,isbn=? WHERE id=?\",(title,author,year,isbn,id))\n",
    "    end_connection(conn,cur)"
   ]
  },
  {
   "cell_type": "code",
   "execution_count": null,
   "metadata": {},
   "outputs": [],
   "source": []
  }
 ],
 "metadata": {
  "kernelspec": {
   "display_name": "Python 3",
   "language": "python",
   "name": "python3"
  },
  "language_info": {
   "codemirror_mode": {
    "name": "ipython",
    "version": 3
   },
   "file_extension": ".py",
   "mimetype": "text/x-python",
   "name": "python",
   "nbconvert_exporter": "python",
   "pygments_lexer": "ipython3",
   "version": "3.7.0"
  }
 },
 "nbformat": 4,
 "nbformat_minor": 2
}
