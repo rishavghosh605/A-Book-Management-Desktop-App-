{
 "cells": [
  {
   "cell_type": "code",
   "execution_count": 1,
   "metadata": {},
   "outputs": [],
   "source": [
    "from tkinter import * "
   ]
  },
  {
   "cell_type": "code",
   "execution_count": 2,
   "metadata": {},
   "outputs": [],
   "source": [
    "'''Creating an empty window\n",
    "    everything must be written between \n",
    "    the two given statements window, and mainloop'''\n",
    "#If you wnat to know the parameters you can pass to the button use the python shell and type Button?\n",
    "\n",
    "window=Tk()\n",
    "\n",
    "def conv_km_mil():\n",
    "    miles=float(e1_val.get())*1.6\n",
    "    t1.insert(END,miles)\n",
    "    \n",
    "#creating a button\n",
    "b1=Button(window,text=\"Execute\",command=conv_km_mil)\n",
    "b1.grid(row=0,column=0)\n",
    "\n",
    "#An Entry- is like an area where you can enter  a value and then you can interact with that value\n",
    "#e1_val is used to store the value of the Entry widget\n",
    "e1_val=StringVar()\n",
    "e1=Entry(window,textvariable=e1_val)\n",
    "e1.grid(row=0,column=1)\n",
    "\n",
    "# adding a text widget\n",
    "t1=Text(window,height=1,width=20)\n",
    "t1.grid(row=0,column=2)\n",
    "window.mainloop()"
   ]
  }
 ],
 "metadata": {
  "kernelspec": {
   "display_name": "Python 3",
   "language": "python",
   "name": "python3"
  },
  "language_info": {
   "codemirror_mode": {
    "name": "ipython",
    "version": 3
   },
   "file_extension": ".py",
   "mimetype": "text/x-python",
   "name": "python",
   "nbconvert_exporter": "python",
   "pygments_lexer": "ipython3",
   "version": "3.7.0"
  }
 },
 "nbformat": 4,
 "nbformat_minor": 2
}
